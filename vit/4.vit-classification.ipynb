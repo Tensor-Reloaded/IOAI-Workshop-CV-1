{
  "cells": [
    {
      "cell_type": "markdown",
      "metadata": {
        "id": "view-in-github",
        "colab_type": "text"
      },
      "source": [
        "<a href=\"https://colab.research.google.com/github/Tensor-Reloaded/IOAI-Workshop-CV-1/blob/main/vit/4.vit-classification.ipynb\" target=\"_parent\"><img src=\"https://colab.research.google.com/assets/colab-badge.svg\" alt=\"Open In Colab\"/></a>"
      ]
    },
    {
      "cell_type": "markdown",
      "metadata": {
        "id": "hcioJrNKA47r"
      },
      "source": [
        "# Multitask - the OxfordIIITPet dataset for segmentation and classification"
      ]
    },
    {
      "cell_type": "code",
      "execution_count": 2,
      "metadata": {
        "ExecuteTime": {
          "end_time": "2025-06-10T17:48:01.413406700Z",
          "start_time": "2025-06-10T17:47:53.856662800Z"
        },
        "id": "EG7mrCvCA47u"
      },
      "outputs": [],
      "source": [
        "import torch\n",
        "import torch.nn as nn\n",
        "from torchvision.transforms import v2\n",
        "from torchvision.datasets import OxfordIIITPet\n",
        "from torch.utils.data import DataLoader, Dataset\n",
        "import timm\n",
        "import torchvision\n",
        "from torchvision.transforms.v2.functional import hflip\n",
        "from tqdm import tqdm\n",
        "import matplotlib.pyplot as plt"
      ]
    },
    {
      "cell_type": "code",
      "execution_count": 3,
      "outputs": [],
      "source": [
        "img_size = 224\n",
        "num_classes = 37"
      ],
      "metadata": {
        "ExecuteTime": {
          "end_time": "2025-06-10T17:48:01.418294100Z",
          "start_time": "2025-06-10T17:48:01.417294900Z"
        },
        "id": "_Yde3NubA47v"
      }
    },
    {
      "cell_type": "code",
      "execution_count": 4,
      "outputs": [
        {
          "output_type": "stream",
          "name": "stderr",
          "text": [
            "100%|██████████| 792M/792M [00:47<00:00, 16.6MB/s]\n",
            "100%|██████████| 19.2M/19.2M [00:02<00:00, 8.73MB/s]\n"
          ]
        }
      ],
      "source": [
        "class ClassificationDataset(Dataset):\n",
        "    def __init__(self, split, image_transforms):\n",
        "        self.data = OxfordIIITPet(\n",
        "            root=\"../data\",\n",
        "            download=True,\n",
        "            split=split,\n",
        "            target_types=(\"category\",),\n",
        "        )\n",
        "        self.image_transforms = image_transforms\n",
        "\n",
        "    def __len__(self):\n",
        "        return len(self.data)\n",
        "\n",
        "    def __getitem__(self, i):\n",
        "        image, class_label = self.data[i]\n",
        "        image = self.image_transforms(image)\n",
        "        return image, class_label\n",
        "\n",
        "\n",
        "image_transforms_train = v2.Compose([\n",
        "    v2.ToImage(),\n",
        "    v2.Resize([img_size, img_size]),\n",
        "    v2.RandomCrop([img_size, img_size], padding=12),\n",
        "    v2.RandomHorizontalFlip(p=0.5),\n",
        "    v2.ToDtype(torch.float32, scale=True),\n",
        "    v2.AutoAugment(),\n",
        "])\n",
        "\n",
        "image_transforms_test = v2.Compose([\n",
        "    v2.ToImage(),\n",
        "    v2.Resize([img_size, img_size]),\n",
        "    v2.ToDtype(torch.float32, scale=True),\n",
        "])\n",
        "\n",
        "cutmix_or_mixup = v2.RandomChoice([\n",
        "    v2.CutMix(num_classes=num_classes),\n",
        "    v2.MixUp(num_classes=num_classes),\n",
        "])\n",
        "\n",
        "train_dataset = ClassificationDataset(\"trainval\", image_transforms_train)\n",
        "test_dataset = ClassificationDataset(\"test\", image_transforms_test)\n",
        "\n",
        "train_loader = DataLoader(train_dataset, shuffle=True, batch_size=32, drop_last=True)\n",
        "test_loader = DataLoader(test_dataset, shuffle=False, batch_size=32, drop_last=False)"
      ],
      "metadata": {
        "ExecuteTime": {
          "end_time": "2025-06-10T17:48:01.573809600Z",
          "start_time": "2025-06-10T17:48:01.422292400Z"
        },
        "colab": {
          "base_uri": "https://localhost:8080/"
        },
        "id": "xzF82NW4A47v",
        "outputId": "0d42fae9-15a5-4581-d4a3-c5f5e58676b5"
      }
    },
    {
      "cell_type": "code",
      "execution_count": 12,
      "outputs": [],
      "source": [
        "class ClassificationModel(nn.Module):\n",
        "    def __init__(self, backbone_name='resnet18', num_classes=num_classes):\n",
        "        super().__init__()\n",
        "        self.backbone = timm.create_model(backbone_name, pretrained=True)\n",
        "        if not hasattr(self.backbone, \"fc\") and not hasattr(self.backbone, \"head\"):\n",
        "            raise RuntimeError(\"Backbone not implemented: \" + backbone_name)\n",
        "        if not hasattr(self.backbone, \"fc\"):  # Has a head\n",
        "            if hasattr(self.backbone.head, \"fc\"): # Is maxvit\n",
        "                self.backbone.head.fc = nn.Linear(self.backbone.head.fc.weight.size(1), num_classes)\n",
        "            else:\n",
        "                # Is ViT\n",
        "                self.backbone.head = nn.Linear(self.backbone.head.weight.size(1), num_classes)\n",
        "        else:\n",
        "            # Is resnet-like\n",
        "            self.backbone.fc = nn.Linear(self.backbone.fc.weight.size(1), num_classes)\n",
        "\n",
        "    def forward(self, x):\n",
        "        return self.backbone(x)\n",
        "\n",
        "    def freeze_backbone(self):\n",
        "        self.backbone.requires_grad_(False)\n",
        "        if not hasattr(self.backbone, \"fc\"):\n",
        "            self.backbone.head.requires_grad_(True)\n",
        "        else:\n",
        "            self.backbone.fc.requires_grad_(True)"
      ],
      "metadata": {
        "ExecuteTime": {
          "end_time": "2025-06-10T17:53:24.009683800Z",
          "start_time": "2025-06-10T17:53:24.002648900Z"
        },
        "id": "Ks7j367hA47v"
      }
    },
    {
      "cell_type": "code",
      "execution_count": 13,
      "outputs": [],
      "source": [
        "def f1_score(x, y):\n",
        "    x_sum = x.sum().item()\n",
        "    y_sum = y.sum().item()\n",
        "\n",
        "    if x_sum == y_sum == 0:\n",
        "        return 1.0\n",
        "    elif x_sum == 0 or y_sum == 0:\n",
        "        return 0.0\n",
        "\n",
        "    return 2.0 * (x & y).sum().item() / (x_sum + y_sum)\n",
        "\n",
        "\n",
        "def f1_macro(predicted, targets, num_classes):\n",
        "    f1s = []\n",
        "    for cls in range(num_classes):\n",
        "        f1s.append(f1_score(predicted == cls, targets == cls))\n",
        "    return sum(f1s) / num_classes\n"
      ],
      "metadata": {
        "ExecuteTime": {
          "end_time": "2025-06-10T17:48:01.585248600Z",
          "start_time": "2025-06-10T17:48:01.581870100Z"
        },
        "id": "RErqPz_bA47w"
      }
    },
    {
      "cell_type": "code",
      "execution_count": 14,
      "outputs": [
        {
          "output_type": "stream",
          "name": "stdout",
          "text": [
            "Using device cuda\n"
          ]
        }
      ],
      "source": [
        "device = torch.accelerator.current_accelerator() if torch.accelerator.is_available() else torch.device(\"cpu\")\n",
        "print(\"Using device\", device)\n",
        "model = ClassificationModel().to(device)\n",
        "classification_criterion = nn.CrossEntropyLoss()\n",
        "optimizer = torch.optim.AdamW(model.parameters(), lr=1e-3)"
      ],
      "metadata": {
        "ExecuteTime": {
          "end_time": "2025-06-10T17:48:02.684548600Z",
          "start_time": "2025-06-10T17:48:01.588251100Z"
        },
        "colab": {
          "base_uri": "https://localhost:8080/"
        },
        "id": "hIR8iEBNA47w",
        "outputId": "2a7b29df-0050-41ba-adb9-9d322f6a1367"
      }
    },
    {
      "cell_type": "code",
      "execution_count": 15,
      "outputs": [],
      "source": [
        "def train():\n",
        "    loss_sum = 0.0\n",
        "    num_batches = 0\n",
        "\n",
        "    model.train()\n",
        "    pbar = tqdm(train_loader, desc=\"Training\")\n",
        "    for images, labels in pbar:\n",
        "        images = images.to(device)\n",
        "        labels = labels.to(device)\n",
        "\n",
        "        images, labels = cutmix_or_mixup(images, labels)\n",
        "\n",
        "        with torch.autocast(device.type, enabled=device.type == 'cuda'):\n",
        "            class_logits = model(images)\n",
        "            loss = classification_criterion(class_logits, labels)\n",
        "\n",
        "        loss.backward()\n",
        "        optimizer.step()\n",
        "        optimizer.zero_grad()\n",
        "        loss_sum += loss.item()\n",
        "        num_batches += 1\n",
        "\n",
        "        pbar.set_postfix({\n",
        "            'Loss': f'{loss.item():.4f}',\n",
        "        })\n",
        "\n",
        "    return loss_sum / num_batches\n",
        "\n",
        "\n",
        "@torch.inference_mode()\n",
        "def val():\n",
        "    cls_f1_sum = 0.0\n",
        "    cls_acc_sum = 0.0\n",
        "    loss_sum = 0.0\n",
        "    num_batches = 0\n",
        "\n",
        "    model.eval()\n",
        "    pbar = tqdm(test_loader, desc=\"Evaluating\")\n",
        "    for images, labels in pbar:\n",
        "        images = images.to(device)\n",
        "        labels = labels.to(device)\n",
        "\n",
        "        with torch.autocast(device.type, enabled=device.type == 'cuda'):\n",
        "            class_logits = model(images)\n",
        "            loss = classification_criterion(class_logits, labels)\n",
        "\n",
        "            pred_classes = class_logits.argmax(dim=1)\n",
        "\n",
        "            cls_f1 = f1_macro(pred_classes, labels, num_classes=num_classes)\n",
        "            cls_acc = (pred_classes == labels).float().mean().item()\n",
        "\n",
        "        cls_f1_sum += cls_f1\n",
        "        cls_acc_sum += cls_acc\n",
        "        loss_sum += loss\n",
        "        num_batches += 1\n",
        "\n",
        "        pbar.set_postfix({\n",
        "            'Loss': f'{loss.item():.4f}',\n",
        "            'ClsF1': f'{cls_f1:.4f}',\n",
        "            'ClsAcc': f'{cls_acc:.4f}',\n",
        "        })\n",
        "\n",
        "    return (\n",
        "        cls_f1_sum / num_batches,\n",
        "        cls_acc_sum / num_batches,\n",
        "        loss_sum / num_batches,\n",
        "    )\n",
        "\n",
        "\n",
        "@torch.inference_mode()\n",
        "def val_tta(tta_type):\n",
        "    cls_f1_sum = 0.0\n",
        "    cls_acc_sum = 0.0\n",
        "    num_batches = 0\n",
        "\n",
        "    model.eval()\n",
        "    pbar = tqdm(test_loader, desc=f\"Evaluating with TTA level {level}\")\n",
        "\n",
        "    for images, labels in pbar:\n",
        "        images = images.to(device)\n",
        "        labels = labels.to(device)\n",
        "\n",
        "        with torch.autocast(device.type, enabled=device.type == 'cuda'):\n",
        "            combined = [images]\n",
        "            if tta_type == \"mirroring\":\n",
        "                combined.append(hflip(images))\n",
        "            elif tta_type == \"translate\":  # left\n",
        "                padding_size = 2\n",
        "                padded = v2.functional.pad(images, [padding_size])\n",
        "                for i in [-2, 0, 2]:\n",
        "                    for j in [-2, 0, 2]:\n",
        "                        if i == 0 and j == 0:\n",
        "                            continue\n",
        "                        x = padding_size + i\n",
        "                        y = padding_size + j\n",
        "                        combined.append(padded[:, :, x:x + img_size, y:y + img_size])\n",
        "            elif tta_type == \"mirroring_and_translate\":\n",
        "                combined.append(hflip(images))\n",
        "                padding_size = 2\n",
        "                padded = v2.functional.pad(images, [padding_size])\n",
        "                for i in [-2, 0, 2]:\n",
        "                    for j in [-2, 0, 2]:\n",
        "                        if i == 0 and j == 0:\n",
        "                            continue\n",
        "                        x = padding_size + i\n",
        "                        y = padding_size + j\n",
        "                        aux = padded[:, :, x:x + img_size, y:y + img_size]\n",
        "                        combined.append(aux)\n",
        "                        combined.append(hflip(aux))\n",
        "            elif tta_type == \"translate_aggressive\":\n",
        "                padding_size = 4\n",
        "                padded = v2.functional.pad(images, [padding_size])\n",
        "                for i in [-4, -2, 0, 2, 4]:\n",
        "                    for j in [-4, -2, 0, 2, 4]:\n",
        "                        if i == 0 and j == 0:\n",
        "                            continue\n",
        "                        x = padding_size + i\n",
        "                        y = padding_size + j\n",
        "                        combined.append(padded[:, :, x:x + img_size, y:y + img_size])\n",
        "\n",
        "            outputs = sum(model(x) for x in combined)\n",
        "        outputs = outputs.argmax(dim=1)\n",
        "\n",
        "        cls_f1 = f1_macro(outputs, labels, num_classes=num_classes)\n",
        "        cls_acc = (outputs == labels).float().mean().item()\n",
        "\n",
        "        cls_f1_sum += cls_f1\n",
        "        cls_acc_sum += cls_acc\n",
        "        num_batches += 1\n",
        "\n",
        "        pbar.set_postfix({\n",
        "            'ClsF1': f'{cls_f1:.4f}',\n",
        "            'ClsAcc': f'{cls_acc:.4f}',\n",
        "        })\n",
        "\n",
        "    return (\n",
        "        cls_f1_sum / num_batches,\n",
        "        cls_acc_sum / num_batches,\n",
        "    )\n"
      ],
      "metadata": {
        "ExecuteTime": {
          "end_time": "2025-06-10T17:48:02.702154700Z",
          "start_time": "2025-06-10T17:48:02.694828500Z"
        },
        "id": "O1hZGxTKA47x"
      }
    },
    {
      "cell_type": "code",
      "execution_count": 17,
      "outputs": [],
      "source": [
        "models = [\n",
        "    \"hf_hub:timm/resnet18.a1_in1k\",\n",
        "    \"hf_hub:timm/resnet50.a1h_in1k\",\n",
        "    \"hf_hub:timm/resnest14d.gluon_in1k\",\n",
        "    \"hf_hub:timm/resnest26d.gluon_in1k\",\n",
        "    \"hf_hub:timm/vit_base_patch16_clip_224.openai\",\n",
        "    \"hf_hub:timm/vit_small_patch16_224.augreg_in21k\",\n",
        "    \"hf_hub:timm/maxvit_tiny_tf_224.in1k\",\n",
        "    \"hf_hub:timm/maxvit_small_tf_224.in1k\",\n",
        "]\n",
        "# Loading all models first\n",
        "for model_name in models:\n",
        "    model = ClassificationModel(model_name)"
      ],
      "metadata": {
        "id": "1YBPv5vNA47x"
      }
    },
    {
      "cell_type": "code",
      "execution_count": 18,
      "outputs": [
        {
          "output_type": "stream",
          "name": "stdout",
          "text": [
            "\n",
            "Epoch 1/10\n"
          ]
        },
        {
          "output_type": "stream",
          "name": "stderr",
          "text": [
            "Training: 100%|██████████| 115/115 [00:37<00:00,  3.11it/s, Loss=2.9983]\n",
            "Evaluating: 100%|██████████| 115/115 [00:27<00:00,  4.12it/s, Loss=2.3929, ClsF1=0.9723, ClsAcc=0.9524]\n"
          ]
        },
        {
          "output_type": "stream",
          "name": "stdout",
          "text": [
            "[Train]                                | Loss: 3.3478\n",
            "[Val]   ClsF1: 0.8880 | ClsAcc: 0.6825 | Loss: 2.6672\n",
            "\n",
            "Epoch 2/10\n"
          ]
        },
        {
          "output_type": "stream",
          "name": "stderr",
          "text": [
            "Training: 100%|██████████| 115/115 [00:36<00:00,  3.17it/s, Loss=2.7887]\n",
            "Evaluating: 100%|██████████| 115/115 [00:32<00:00,  3.54it/s, Loss=1.6399, ClsF1=0.9723, ClsAcc=0.9524]\n"
          ]
        },
        {
          "output_type": "stream",
          "name": "stdout",
          "text": [
            "[Train]                                | Loss: 2.9350\n",
            "[Val]   ClsF1: 0.9088 | ClsAcc: 0.7800 | Loss: 2.1998\n",
            "\n",
            "Epoch 3/10\n"
          ]
        },
        {
          "output_type": "stream",
          "name": "stderr",
          "text": [
            "Training: 100%|██████████| 115/115 [00:34<00:00,  3.34it/s, Loss=2.2754]\n",
            "Evaluating: 100%|██████████| 115/115 [00:27<00:00,  4.17it/s, Loss=1.0690, ClsF1=0.9723, ClsAcc=0.9524]\n"
          ]
        },
        {
          "output_type": "stream",
          "name": "stdout",
          "text": [
            "[Train]                                | Loss: 2.6710\n",
            "[Val]   ClsF1: 0.9057 | ClsAcc: 0.7882 | Loss: 1.6626\n",
            "\n",
            "Epoch 4/10\n"
          ]
        },
        {
          "output_type": "stream",
          "name": "stderr",
          "text": [
            "Training: 100%|██████████| 115/115 [00:33<00:00,  3.40it/s, Loss=1.9944]\n",
            "Evaluating: 100%|██████████| 115/115 [00:28<00:00,  4.07it/s, Loss=1.0503, ClsF1=0.9723, ClsAcc=0.9524]\n"
          ]
        },
        {
          "output_type": "stream",
          "name": "stdout",
          "text": [
            "[Train]                                | Loss: 2.5428\n",
            "[Val]   ClsF1: 0.9109 | ClsAcc: 0.7936 | Loss: 1.6246\n",
            "\n",
            "Epoch 5/10\n"
          ]
        },
        {
          "output_type": "stream",
          "name": "stderr",
          "text": [
            "Training: 100%|██████████| 115/115 [00:33<00:00,  3.43it/s, Loss=2.7123]\n",
            "Evaluating: 100%|██████████| 115/115 [00:27<00:00,  4.21it/s, Loss=0.8526, ClsF1=0.9716, ClsAcc=0.9048]\n"
          ]
        },
        {
          "output_type": "stream",
          "name": "stdout",
          "text": [
            "[Train]                                | Loss: 2.4308\n",
            "[Val]   ClsF1: 0.9170 | ClsAcc: 0.8201 | Loss: 1.3187\n",
            "\n",
            "Epoch 6/10\n"
          ]
        },
        {
          "output_type": "stream",
          "name": "stderr",
          "text": [
            "Training: 100%|██████████| 115/115 [00:34<00:00,  3.38it/s, Loss=2.7089]\n",
            "Evaluating: 100%|██████████| 115/115 [00:27<00:00,  4.19it/s, Loss=0.7991, ClsF1=0.9716, ClsAcc=0.9048]\n"
          ]
        },
        {
          "output_type": "stream",
          "name": "stdout",
          "text": [
            "[Train]                                | Loss: 2.3978\n",
            "[Val]   ClsF1: 0.9170 | ClsAcc: 0.8128 | Loss: 1.3407\n",
            "\n",
            "Epoch 7/10\n"
          ]
        },
        {
          "output_type": "stream",
          "name": "stderr",
          "text": [
            "Training: 100%|██████████| 115/115 [00:33<00:00,  3.42it/s, Loss=1.1370]\n",
            "Evaluating: 100%|██████████| 115/115 [00:27<00:00,  4.21it/s, Loss=0.5655, ClsF1=0.9716, ClsAcc=0.9048]\n"
          ]
        },
        {
          "output_type": "stream",
          "name": "stdout",
          "text": [
            "[Train]                                | Loss: 2.2981\n",
            "[Val]   ClsF1: 0.9170 | ClsAcc: 0.8364 | Loss: 1.1538\n",
            "\n",
            "Epoch 8/10\n"
          ]
        },
        {
          "output_type": "stream",
          "name": "stderr",
          "text": [
            "Training: 100%|██████████| 115/115 [00:33<00:00,  3.40it/s, Loss=1.7527]\n",
            "Evaluating: 100%|██████████| 115/115 [00:27<00:00,  4.16it/s, Loss=0.5671, ClsF1=0.9716, ClsAcc=0.9048]\n"
          ]
        },
        {
          "output_type": "stream",
          "name": "stdout",
          "text": [
            "[Train]                                | Loss: 2.3128\n",
            "[Val]   ClsF1: 0.9192 | ClsAcc: 0.8337 | Loss: 1.0595\n",
            "\n",
            "Epoch 9/10\n"
          ]
        },
        {
          "output_type": "stream",
          "name": "stderr",
          "text": [
            "Training: 100%|██████████| 115/115 [00:33<00:00,  3.44it/s, Loss=2.3495]\n",
            "Evaluating: 100%|██████████| 115/115 [00:27<00:00,  4.23it/s, Loss=0.4555, ClsF1=0.9716, ClsAcc=0.9048]\n"
          ]
        },
        {
          "output_type": "stream",
          "name": "stdout",
          "text": [
            "[Train]                                | Loss: 2.2426\n",
            "[Val]   ClsF1: 0.9228 | ClsAcc: 0.8410 | Loss: 0.9824\n",
            "\n",
            "Epoch 10/10\n"
          ]
        },
        {
          "output_type": "stream",
          "name": "stderr",
          "text": [
            "Training: 100%|██████████| 115/115 [00:32<00:00,  3.56it/s, Loss=2.5576]\n",
            "Evaluating: 100%|██████████| 115/115 [00:26<00:00,  4.29it/s, Loss=0.6565, ClsF1=0.9716, ClsAcc=0.9048]\n"
          ]
        },
        {
          "output_type": "stream",
          "name": "stdout",
          "text": [
            "[Train]                                | Loss: 2.2637\n",
            "[Val]   ClsF1: 0.9243 | ClsAcc: 0.8361 | Loss: 1.0624\n"
          ]
        },
        {
          "output_type": "stream",
          "name": "stderr",
          "text": [
            "Evaluating with TTA level no_tta: 100%|██████████| 115/115 [00:26<00:00,  4.34it/s, ClsF1=0.9716, ClsAcc=0.9048]\n",
            "Evaluating with TTA level mirroring: 100%|██████████| 115/115 [00:28<00:00,  4.00it/s, ClsF1=0.9716, ClsAcc=0.9048]\n",
            "Evaluating with TTA level translate: 100%|██████████| 115/115 [00:39<00:00,  2.92it/s, ClsF1=0.9716, ClsAcc=0.9048]\n"
          ]
        },
        {
          "output_type": "stream",
          "name": "stdout",
          "text": [
            "\n",
            "Epoch 1/10\n"
          ]
        },
        {
          "output_type": "stream",
          "name": "stderr",
          "text": [
            "Training: 100%|██████████| 115/115 [00:35<00:00,  3.22it/s, Loss=2.7886]\n",
            "Evaluating: 100%|██████████| 115/115 [00:30<00:00,  3.74it/s, Loss=2.0018, ClsF1=0.9723, ClsAcc=0.9524]\n"
          ]
        },
        {
          "output_type": "stream",
          "name": "stdout",
          "text": [
            "[Train]                                | Loss: 3.0995\n",
            "[Val]   ClsF1: 0.9449 | ClsAcc: 0.8028 | Loss: 2.0866\n",
            "\n",
            "Epoch 2/10\n"
          ]
        },
        {
          "output_type": "stream",
          "name": "stderr",
          "text": [
            "Training: 100%|██████████| 115/115 [00:36<00:00,  3.16it/s, Loss=1.4471]\n",
            "Evaluating: 100%|██████████| 115/115 [00:30<00:00,  3.74it/s, Loss=1.0229, ClsF1=1.0000, ClsAcc=1.0000]\n"
          ]
        },
        {
          "output_type": "stream",
          "name": "stdout",
          "text": [
            "[Train]                                | Loss: 2.4240\n",
            "[Val]   ClsF1: 0.9496 | ClsAcc: 0.8557 | Loss: 1.3112\n",
            "\n",
            "Epoch 3/10\n"
          ]
        },
        {
          "output_type": "stream",
          "name": "stderr",
          "text": [
            "Training: 100%|██████████| 115/115 [00:35<00:00,  3.25it/s, Loss=2.0610]\n",
            "Evaluating: 100%|██████████| 115/115 [00:30<00:00,  3.74it/s, Loss=0.5713, ClsF1=1.0000, ClsAcc=1.0000]\n"
          ]
        },
        {
          "output_type": "stream",
          "name": "stdout",
          "text": [
            "[Train]                                | Loss: 2.1238\n",
            "[Val]   ClsF1: 0.9533 | ClsAcc: 0.8799 | Loss: 0.9404\n",
            "\n",
            "Epoch 4/10\n"
          ]
        },
        {
          "output_type": "stream",
          "name": "stderr",
          "text": [
            "Training: 100%|██████████| 115/115 [00:35<00:00,  3.22it/s, Loss=2.6467]\n",
            "Evaluating: 100%|██████████| 115/115 [00:30<00:00,  3.83it/s, Loss=0.4326, ClsF1=1.0000, ClsAcc=1.0000]\n"
          ]
        },
        {
          "output_type": "stream",
          "name": "stdout",
          "text": [
            "[Train]                                | Loss: 1.9654\n",
            "[Val]   ClsF1: 0.9532 | ClsAcc: 0.8859 | Loss: 0.7958\n",
            "\n",
            "Epoch 5/10\n"
          ]
        },
        {
          "output_type": "stream",
          "name": "stderr",
          "text": [
            "Training: 100%|██████████| 115/115 [00:35<00:00,  3.22it/s, Loss=2.3307]\n",
            "Evaluating: 100%|██████████| 115/115 [00:30<00:00,  3.75it/s, Loss=0.3714, ClsF1=1.0000, ClsAcc=1.0000]\n"
          ]
        },
        {
          "output_type": "stream",
          "name": "stdout",
          "text": [
            "[Train]                                | Loss: 1.9147\n",
            "[Val]   ClsF1: 0.9534 | ClsAcc: 0.8924 | Loss: 0.6937\n",
            "\n",
            "Epoch 6/10\n"
          ]
        },
        {
          "output_type": "stream",
          "name": "stderr",
          "text": [
            "Training: 100%|██████████| 115/115 [00:35<00:00,  3.22it/s, Loss=1.3999]\n",
            "Evaluating: 100%|██████████| 115/115 [00:30<00:00,  3.80it/s, Loss=0.2963, ClsF1=1.0000, ClsAcc=1.0000]\n"
          ]
        },
        {
          "output_type": "stream",
          "name": "stdout",
          "text": [
            "[Train]                                | Loss: 1.8233\n",
            "[Val]   ClsF1: 0.9524 | ClsAcc: 0.8889 | Loss: 0.6560\n",
            "\n",
            "Epoch 7/10\n"
          ]
        },
        {
          "output_type": "stream",
          "name": "stderr",
          "text": [
            "Training: 100%|██████████| 115/115 [00:36<00:00,  3.19it/s, Loss=1.7640]\n",
            "Evaluating: 100%|██████████| 115/115 [00:30<00:00,  3.73it/s, Loss=0.3604, ClsF1=1.0000, ClsAcc=1.0000]\n"
          ]
        },
        {
          "output_type": "stream",
          "name": "stdout",
          "text": [
            "[Train]                                | Loss: 1.8267\n",
            "[Val]   ClsF1: 0.9551 | ClsAcc: 0.9033 | Loss: 0.6316\n",
            "\n",
            "Epoch 8/10\n"
          ]
        },
        {
          "output_type": "stream",
          "name": "stderr",
          "text": [
            "Training: 100%|██████████| 115/115 [00:36<00:00,  3.17it/s, Loss=2.7550]\n",
            "Evaluating: 100%|██████████| 115/115 [00:30<00:00,  3.80it/s, Loss=0.3010, ClsF1=1.0000, ClsAcc=1.0000]\n"
          ]
        },
        {
          "output_type": "stream",
          "name": "stdout",
          "text": [
            "[Train]                                | Loss: 1.8601\n",
            "[Val]   ClsF1: 0.9547 | ClsAcc: 0.8984 | Loss: 0.6159\n",
            "\n",
            "Epoch 9/10\n"
          ]
        },
        {
          "output_type": "stream",
          "name": "stderr",
          "text": [
            "Training: 100%|██████████| 115/115 [00:35<00:00,  3.22it/s, Loss=0.9408]\n",
            "Evaluating: 100%|██████████| 115/115 [00:30<00:00,  3.75it/s, Loss=0.3471, ClsF1=1.0000, ClsAcc=1.0000]\n"
          ]
        },
        {
          "output_type": "stream",
          "name": "stdout",
          "text": [
            "[Train]                                | Loss: 1.7539\n",
            "[Val]   ClsF1: 0.9552 | ClsAcc: 0.9030 | Loss: 0.5619\n",
            "\n",
            "Epoch 10/10\n"
          ]
        },
        {
          "output_type": "stream",
          "name": "stderr",
          "text": [
            "Training: 100%|██████████| 115/115 [00:35<00:00,  3.23it/s, Loss=0.9030]\n",
            "Evaluating: 100%|██████████| 115/115 [00:30<00:00,  3.77it/s, Loss=0.4370, ClsF1=1.0000, ClsAcc=1.0000]\n"
          ]
        },
        {
          "output_type": "stream",
          "name": "stdout",
          "text": [
            "[Train]                                | Loss: 1.7933\n",
            "[Val]   ClsF1: 0.9573 | ClsAcc: 0.9057 | Loss: 0.5656\n"
          ]
        },
        {
          "output_type": "stream",
          "name": "stderr",
          "text": [
            "Evaluating with TTA level no_tta: 100%|██████████| 115/115 [00:30<00:00,  3.77it/s, ClsF1=1.0000, ClsAcc=1.0000]\n",
            "Evaluating with TTA level mirroring: 100%|██████████| 115/115 [00:33<00:00,  3.46it/s, ClsF1=1.0000, ClsAcc=1.0000]\n",
            "Evaluating with TTA level translate: 100%|██████████| 115/115 [01:07<00:00,  1.72it/s, ClsF1=1.0000, ClsAcc=1.0000]\n"
          ]
        },
        {
          "output_type": "stream",
          "name": "stdout",
          "text": [
            "\n",
            "Epoch 1/10\n"
          ]
        },
        {
          "output_type": "stream",
          "name": "stderr",
          "text": [
            "Training: 100%|██████████| 115/115 [00:34<00:00,  3.34it/s, Loss=2.4646]\n",
            "Evaluating: 100%|██████████| 115/115 [00:28<00:00,  3.98it/s, Loss=1.4628, ClsF1=0.9414, ClsAcc=0.7143]\n"
          ]
        },
        {
          "output_type": "stream",
          "name": "stdout",
          "text": [
            "[Train]                                | Loss: 2.8560\n",
            "[Val]   ClsF1: 0.8964 | ClsAcc: 0.7130 | Loss: 1.5139\n",
            "\n",
            "Epoch 2/10\n"
          ]
        },
        {
          "output_type": "stream",
          "name": "stderr",
          "text": [
            "Training: 100%|██████████| 115/115 [00:36<00:00,  3.12it/s, Loss=2.4305]\n",
            "Evaluating: 100%|██████████| 115/115 [00:28<00:00,  3.99it/s, Loss=1.1464, ClsF1=0.9701, ClsAcc=0.8095]\n"
          ]
        },
        {
          "output_type": "stream",
          "name": "stdout",
          "text": [
            "[Train]                                | Loss: 2.2289\n",
            "[Val]   ClsF1: 0.9057 | ClsAcc: 0.7842 | Loss: 1.1570\n",
            "\n",
            "Epoch 3/10\n"
          ]
        },
        {
          "output_type": "stream",
          "name": "stderr",
          "text": [
            "Training: 100%|██████████| 115/115 [00:37<00:00,  3.07it/s, Loss=1.0460]\n",
            "Evaluating: 100%|██████████| 115/115 [00:29<00:00,  3.95it/s, Loss=1.2931, ClsF1=0.9685, ClsAcc=0.7143]\n"
          ]
        },
        {
          "output_type": "stream",
          "name": "stdout",
          "text": [
            "[Train]                                | Loss: 2.1891\n",
            "[Val]   ClsF1: 0.9131 | ClsAcc: 0.8198 | Loss: 1.0377\n",
            "\n",
            "Epoch 4/10\n"
          ]
        },
        {
          "output_type": "stream",
          "name": "stderr",
          "text": [
            "Training: 100%|██████████| 115/115 [00:36<00:00,  3.14it/s, Loss=1.0879]\n",
            "Evaluating: 100%|██████████| 115/115 [00:28<00:00,  4.03it/s, Loss=1.2339, ClsF1=0.8865, ClsAcc=0.6667]\n"
          ]
        },
        {
          "output_type": "stream",
          "name": "stdout",
          "text": [
            "[Train]                                | Loss: 1.9655\n",
            "[Val]   ClsF1: 0.9138 | ClsAcc: 0.8172 | Loss: 0.9316\n",
            "\n",
            "Epoch 5/10\n"
          ]
        },
        {
          "output_type": "stream",
          "name": "stderr",
          "text": [
            "Training: 100%|██████████| 115/115 [00:39<00:00,  2.89it/s, Loss=2.6622]\n",
            "Evaluating: 100%|██████████| 115/115 [00:28<00:00,  3.97it/s, Loss=0.8309, ClsF1=0.9439, ClsAcc=0.8571]\n"
          ]
        },
        {
          "output_type": "stream",
          "name": "stdout",
          "text": [
            "[Train]                                | Loss: 1.9817\n",
            "[Val]   ClsF1: 0.9203 | ClsAcc: 0.8267 | Loss: 0.9645\n",
            "\n",
            "Epoch 6/10\n"
          ]
        },
        {
          "output_type": "stream",
          "name": "stderr",
          "text": [
            "Training: 100%|██████████| 115/115 [00:37<00:00,  3.10it/s, Loss=2.0813]\n",
            "Evaluating: 100%|██████████| 115/115 [00:29<00:00,  3.90it/s, Loss=0.6285, ClsF1=0.9446, ClsAcc=0.9048]\n"
          ]
        },
        {
          "output_type": "stream",
          "name": "stdout",
          "text": [
            "[Train]                                | Loss: 2.0007\n",
            "[Val]   ClsF1: 0.9191 | ClsAcc: 0.8427 | Loss: 0.8424\n",
            "\n",
            "Epoch 7/10\n"
          ]
        },
        {
          "output_type": "stream",
          "name": "stderr",
          "text": [
            "Training: 100%|██████████| 115/115 [00:36<00:00,  3.11it/s, Loss=2.4275]\n",
            "Evaluating: 100%|██████████| 115/115 [00:29<00:00,  3.88it/s, Loss=0.6155, ClsF1=0.9446, ClsAcc=0.9048]\n"
          ]
        },
        {
          "output_type": "stream",
          "name": "stdout",
          "text": [
            "[Train]                                | Loss: 1.9124\n",
            "[Val]   ClsF1: 0.9181 | ClsAcc: 0.8394 | Loss: 0.8276\n",
            "\n",
            "Epoch 8/10\n"
          ]
        },
        {
          "output_type": "stream",
          "name": "stderr",
          "text": [
            "Training: 100%|██████████| 115/115 [00:36<00:00,  3.13it/s, Loss=1.5004]\n",
            "Evaluating: 100%|██████████| 115/115 [00:29<00:00,  3.97it/s, Loss=1.0680, ClsF1=0.9153, ClsAcc=0.7619]\n"
          ]
        },
        {
          "output_type": "stream",
          "name": "stdout",
          "text": [
            "[Train]                                | Loss: 1.9017\n",
            "[Val]   ClsF1: 0.9176 | ClsAcc: 0.8311 | Loss: 0.8747\n",
            "\n",
            "Epoch 9/10\n"
          ]
        },
        {
          "output_type": "stream",
          "name": "stderr",
          "text": [
            "Training: 100%|██████████| 115/115 [00:36<00:00,  3.16it/s, Loss=0.8252]\n",
            "Evaluating: 100%|██████████| 115/115 [00:29<00:00,  3.96it/s, Loss=1.1349, ClsF1=0.9439, ClsAcc=0.8571]\n"
          ]
        },
        {
          "output_type": "stream",
          "name": "stdout",
          "text": [
            "[Train]                                | Loss: 2.0060\n",
            "[Val]   ClsF1: 0.9137 | ClsAcc: 0.8338 | Loss: 0.9364\n",
            "\n",
            "Epoch 10/10\n"
          ]
        },
        {
          "output_type": "stream",
          "name": "stderr",
          "text": [
            "Training: 100%|██████████| 115/115 [00:37<00:00,  3.11it/s, Loss=1.4158]\n",
            "Evaluating: 100%|██████████| 115/115 [00:28<00:00,  3.99it/s, Loss=0.7996, ClsF1=0.9446, ClsAcc=0.9048]\n"
          ]
        },
        {
          "output_type": "stream",
          "name": "stdout",
          "text": [
            "[Train]                                | Loss: 1.9092\n",
            "[Val]   ClsF1: 0.9164 | ClsAcc: 0.8367 | Loss: 0.8596\n"
          ]
        },
        {
          "output_type": "stream",
          "name": "stderr",
          "text": [
            "Evaluating with TTA level no_tta: 100%|██████████| 115/115 [00:28<00:00,  4.01it/s, ClsF1=0.9446, ClsAcc=0.9048]\n",
            "Evaluating with TTA level mirroring: 100%|██████████| 115/115 [00:33<00:00,  3.46it/s, ClsF1=0.9446, ClsAcc=0.9048]\n",
            "Evaluating with TTA level translate: 100%|██████████| 115/115 [00:57<00:00,  2.00it/s, ClsF1=0.9446, ClsAcc=0.9048]\n"
          ]
        },
        {
          "output_type": "stream",
          "name": "stdout",
          "text": [
            "\n",
            "Epoch 1/10\n"
          ]
        },
        {
          "output_type": "stream",
          "name": "stderr",
          "text": [
            "Training: 100%|██████████| 115/115 [00:36<00:00,  3.16it/s, Loss=2.1733]\n",
            "Evaluating: 100%|██████████| 115/115 [00:30<00:00,  3.74it/s, Loss=0.9784, ClsF1=0.9716, ClsAcc=0.9048]\n"
          ]
        },
        {
          "output_type": "stream",
          "name": "stdout",
          "text": [
            "[Train]                                | Loss: 2.6413\n",
            "[Val]   ClsF1: 0.9248 | ClsAcc: 0.8193 | Loss: 1.1758\n",
            "\n",
            "Epoch 2/10\n"
          ]
        },
        {
          "output_type": "stream",
          "name": "stderr",
          "text": [
            "Training: 100%|██████████| 115/115 [00:36<00:00,  3.14it/s, Loss=2.3865]\n",
            "Evaluating: 100%|██████████| 115/115 [00:31<00:00,  3.68it/s, Loss=0.6758, ClsF1=0.9723, ClsAcc=0.9524]\n"
          ]
        },
        {
          "output_type": "stream",
          "name": "stdout",
          "text": [
            "[Train]                                | Loss: 2.1311\n",
            "[Val]   ClsF1: 0.9300 | ClsAcc: 0.8444 | Loss: 0.9791\n",
            "\n",
            "Epoch 3/10\n"
          ]
        },
        {
          "output_type": "stream",
          "name": "stderr",
          "text": [
            "Training: 100%|██████████| 115/115 [00:36<00:00,  3.16it/s, Loss=1.2624]\n",
            "Evaluating: 100%|██████████| 115/115 [00:30<00:00,  3.72it/s, Loss=0.5968, ClsF1=1.0000, ClsAcc=1.0000]\n"
          ]
        },
        {
          "output_type": "stream",
          "name": "stdout",
          "text": [
            "[Train]                                | Loss: 2.0272\n",
            "[Val]   ClsF1: 0.9379 | ClsAcc: 0.8590 | Loss: 0.8139\n",
            "\n",
            "Epoch 4/10\n"
          ]
        },
        {
          "output_type": "stream",
          "name": "stderr",
          "text": [
            "Training: 100%|██████████| 115/115 [00:36<00:00,  3.14it/s, Loss=1.8106]\n",
            "Evaluating: 100%|██████████| 115/115 [00:31<00:00,  3.62it/s, Loss=0.5254, ClsF1=1.0000, ClsAcc=1.0000]\n"
          ]
        },
        {
          "output_type": "stream",
          "name": "stdout",
          "text": [
            "[Train]                                | Loss: 1.9321\n",
            "[Val]   ClsF1: 0.9327 | ClsAcc: 0.8606 | Loss: 0.8139\n",
            "\n",
            "Epoch 5/10\n"
          ]
        },
        {
          "output_type": "stream",
          "name": "stderr",
          "text": [
            "Training: 100%|██████████| 115/115 [00:37<00:00,  3.10it/s, Loss=2.1825]\n",
            "Evaluating: 100%|██████████| 115/115 [00:31<00:00,  3.62it/s, Loss=0.4298, ClsF1=1.0000, ClsAcc=1.0000]\n"
          ]
        },
        {
          "output_type": "stream",
          "name": "stdout",
          "text": [
            "[Train]                                | Loss: 1.9728\n",
            "[Val]   ClsF1: 0.9341 | ClsAcc: 0.8696 | Loss: 0.8233\n",
            "\n",
            "Epoch 6/10\n"
          ]
        },
        {
          "output_type": "stream",
          "name": "stderr",
          "text": [
            "Training: 100%|██████████| 115/115 [00:36<00:00,  3.17it/s, Loss=1.4165]\n",
            "Evaluating: 100%|██████████| 115/115 [00:30<00:00,  3.72it/s, Loss=0.5285, ClsF1=1.0000, ClsAcc=1.0000]\n"
          ]
        },
        {
          "output_type": "stream",
          "name": "stdout",
          "text": [
            "[Train]                                | Loss: 1.9600\n",
            "[Val]   ClsF1: 0.9342 | ClsAcc: 0.8590 | Loss: 0.8032\n",
            "\n",
            "Epoch 7/10\n"
          ]
        },
        {
          "output_type": "stream",
          "name": "stderr",
          "text": [
            "Training: 100%|██████████| 115/115 [00:36<00:00,  3.11it/s, Loss=0.4899]\n",
            "Evaluating: 100%|██████████| 115/115 [00:31<00:00,  3.65it/s, Loss=0.4813, ClsF1=1.0000, ClsAcc=1.0000]\n"
          ]
        },
        {
          "output_type": "stream",
          "name": "stdout",
          "text": [
            "[Train]                                | Loss: 1.8223\n",
            "[Val]   ClsF1: 0.9401 | ClsAcc: 0.8688 | Loss: 0.7793\n",
            "\n",
            "Epoch 8/10\n"
          ]
        },
        {
          "output_type": "stream",
          "name": "stderr",
          "text": [
            "Training: 100%|██████████| 115/115 [00:36<00:00,  3.18it/s, Loss=2.1501]\n",
            "Evaluating: 100%|██████████| 115/115 [00:30<00:00,  3.72it/s, Loss=0.8150, ClsF1=1.0000, ClsAcc=1.0000]\n"
          ]
        },
        {
          "output_type": "stream",
          "name": "stdout",
          "text": [
            "[Train]                                | Loss: 1.8463\n",
            "[Val]   ClsF1: 0.9401 | ClsAcc: 0.8745 | Loss: 0.8439\n",
            "\n",
            "Epoch 9/10\n"
          ]
        },
        {
          "output_type": "stream",
          "name": "stderr",
          "text": [
            "Training: 100%|██████████| 115/115 [00:36<00:00,  3.17it/s, Loss=1.1530]\n",
            "Evaluating: 100%|██████████| 115/115 [00:31<00:00,  3.68it/s, Loss=0.4907, ClsF1=1.0000, ClsAcc=1.0000]\n"
          ]
        },
        {
          "output_type": "stream",
          "name": "stdout",
          "text": [
            "[Train]                                | Loss: 1.7864\n",
            "[Val]   ClsF1: 0.9336 | ClsAcc: 0.8685 | Loss: 0.7722\n",
            "\n",
            "Epoch 10/10\n"
          ]
        },
        {
          "output_type": "stream",
          "name": "stderr",
          "text": [
            "Training: 100%|██████████| 115/115 [00:36<00:00,  3.17it/s, Loss=1.7593]\n",
            "Evaluating: 100%|██████████| 115/115 [00:30<00:00,  3.76it/s, Loss=0.5389, ClsF1=1.0000, ClsAcc=1.0000]\n"
          ]
        },
        {
          "output_type": "stream",
          "name": "stdout",
          "text": [
            "[Train]                                | Loss: 1.9161\n",
            "[Val]   ClsF1: 0.9311 | ClsAcc: 0.8576 | Loss: 0.7671\n"
          ]
        },
        {
          "output_type": "stream",
          "name": "stderr",
          "text": [
            "Evaluating with TTA level no_tta: 100%|██████████| 115/115 [00:31<00:00,  3.66it/s, ClsF1=1.0000, ClsAcc=1.0000]\n",
            "Evaluating with TTA level mirroring: 100%|██████████| 115/115 [00:34<00:00,  3.35it/s, ClsF1=1.0000, ClsAcc=1.0000]\n",
            "Evaluating with TTA level translate: 100%|██████████| 115/115 [01:11<00:00,  1.62it/s, ClsF1=1.0000, ClsAcc=1.0000]\n"
          ]
        },
        {
          "output_type": "stream",
          "name": "stdout",
          "text": [
            "\n",
            "Epoch 1/10\n"
          ]
        },
        {
          "output_type": "stream",
          "name": "stderr",
          "text": [
            "Training: 100%|██████████| 115/115 [00:39<00:00,  2.93it/s, Loss=1.9198]\n",
            "Evaluating: 100%|██████████| 115/115 [00:33<00:00,  3.42it/s, Loss=1.9498, ClsF1=0.9257, ClsAcc=0.1429]\n"
          ]
        },
        {
          "output_type": "stream",
          "name": "stdout",
          "text": [
            "[Train]                                | Loss: 2.9864\n",
            "[Val]   ClsF1: 0.9112 | ClsAcc: 0.6809 | Loss: 1.4237\n",
            "\n",
            "Epoch 2/10\n"
          ]
        },
        {
          "output_type": "stream",
          "name": "stderr",
          "text": [
            "Training: 100%|██████████| 115/115 [00:38<00:00,  3.01it/s, Loss=2.7561]\n",
            "Evaluating: 100%|██████████| 115/115 [00:33<00:00,  3.38it/s, Loss=0.6889, ClsF1=0.9716, ClsAcc=0.9048]\n"
          ]
        },
        {
          "output_type": "stream",
          "name": "stdout",
          "text": [
            "[Train]                                | Loss: 2.4388\n",
            "[Val]   ClsF1: 0.9285 | ClsAcc: 0.7867 | Loss: 0.9993\n",
            "\n",
            "Epoch 3/10\n"
          ]
        },
        {
          "output_type": "stream",
          "name": "stderr",
          "text": [
            "Training: 100%|██████████| 115/115 [00:38<00:00,  2.99it/s, Loss=1.8379]\n",
            "Evaluating: 100%|██████████| 115/115 [00:33<00:00,  3.44it/s, Loss=1.8514, ClsF1=0.9351, ClsAcc=0.4286]\n"
          ]
        },
        {
          "output_type": "stream",
          "name": "stdout",
          "text": [
            "[Train]                                | Loss: 2.2194\n",
            "[Val]   ClsF1: 0.9225 | ClsAcc: 0.7991 | Loss: 0.8629\n",
            "\n",
            "Epoch 4/10\n"
          ]
        },
        {
          "output_type": "stream",
          "name": "stderr",
          "text": [
            "Training: 100%|██████████| 115/115 [00:38<00:00,  3.00it/s, Loss=2.4609]\n",
            "Evaluating: 100%|██████████| 115/115 [00:33<00:00,  3.47it/s, Loss=0.7347, ClsF1=0.9431, ClsAcc=0.8095]\n"
          ]
        },
        {
          "output_type": "stream",
          "name": "stdout",
          "text": [
            "[Train]                                | Loss: 2.2388\n",
            "[Val]   ClsF1: 0.9314 | ClsAcc: 0.8179 | Loss: 0.7837\n",
            "\n",
            "Epoch 5/10\n"
          ]
        },
        {
          "output_type": "stream",
          "name": "stderr",
          "text": [
            "Training: 100%|██████████| 115/115 [00:38<00:00,  2.98it/s, Loss=2.7953]\n",
            "Evaluating: 100%|██████████| 115/115 [00:33<00:00,  3.47it/s, Loss=0.9412, ClsF1=0.9405, ClsAcc=0.6667]\n"
          ]
        },
        {
          "output_type": "stream",
          "name": "stdout",
          "text": [
            "[Train]                                | Loss: 2.2651\n",
            "[Val]   ClsF1: 0.9353 | ClsAcc: 0.8156 | Loss: 0.7710\n",
            "\n",
            "Epoch 6/10\n"
          ]
        },
        {
          "output_type": "stream",
          "name": "stderr",
          "text": [
            "Training: 100%|██████████| 115/115 [00:38<00:00,  2.96it/s, Loss=2.6159]\n",
            "Evaluating: 100%|██████████| 115/115 [00:33<00:00,  3.45it/s, Loss=0.8505, ClsF1=0.9423, ClsAcc=0.7619]\n"
          ]
        },
        {
          "output_type": "stream",
          "name": "stdout",
          "text": [
            "[Train]                                | Loss: 2.1723\n",
            "[Val]   ClsF1: 0.9344 | ClsAcc: 0.8324 | Loss: 0.7186\n",
            "\n",
            "Epoch 7/10\n"
          ]
        },
        {
          "output_type": "stream",
          "name": "stderr",
          "text": [
            "Training: 100%|██████████| 115/115 [00:38<00:00,  2.96it/s, Loss=2.1499]\n",
            "Evaluating: 100%|██████████| 115/115 [00:33<00:00,  3.46it/s, Loss=0.9780, ClsF1=0.9414, ClsAcc=0.7143]\n"
          ]
        },
        {
          "output_type": "stream",
          "name": "stdout",
          "text": [
            "[Train]                                | Loss: 2.1064\n",
            "[Val]   ClsF1: 0.9337 | ClsAcc: 0.8195 | Loss: 0.7129\n",
            "\n",
            "Epoch 8/10\n"
          ]
        },
        {
          "output_type": "stream",
          "name": "stderr",
          "text": [
            "Training: 100%|██████████| 115/115 [00:38<00:00,  2.95it/s, Loss=3.0298]\n",
            "Evaluating: 100%|██████████| 115/115 [00:33<00:00,  3.42it/s, Loss=0.5512, ClsF1=0.9716, ClsAcc=0.9048]\n"
          ]
        },
        {
          "output_type": "stream",
          "name": "stdout",
          "text": [
            "[Train]                                | Loss: 2.0515\n",
            "[Val]   ClsF1: 0.9366 | ClsAcc: 0.8519 | Loss: 0.6521\n",
            "\n",
            "Epoch 9/10\n"
          ]
        },
        {
          "output_type": "stream",
          "name": "stderr",
          "text": [
            "Training: 100%|██████████| 115/115 [00:38<00:00,  3.01it/s, Loss=1.2731]\n",
            "Evaluating: 100%|██████████| 115/115 [00:33<00:00,  3.42it/s, Loss=0.9649, ClsF1=0.9144, ClsAcc=0.7143]\n"
          ]
        },
        {
          "output_type": "stream",
          "name": "stdout",
          "text": [
            "[Train]                                | Loss: 2.0500\n",
            "[Val]   ClsF1: 0.9340 | ClsAcc: 0.8462 | Loss: 0.6638\n",
            "\n",
            "Epoch 10/10\n"
          ]
        },
        {
          "output_type": "stream",
          "name": "stderr",
          "text": [
            "Training: 100%|██████████| 115/115 [00:38<00:00,  3.00it/s, Loss=2.8730]\n",
            "Evaluating: 100%|██████████| 115/115 [00:33<00:00,  3.45it/s, Loss=1.2065, ClsF1=0.9386, ClsAcc=0.5714]\n"
          ]
        },
        {
          "output_type": "stream",
          "name": "stdout",
          "text": [
            "[Train]                                | Loss: 2.1725\n",
            "[Val]   ClsF1: 0.9354 | ClsAcc: 0.8436 | Loss: 0.6666\n"
          ]
        },
        {
          "output_type": "stream",
          "name": "stderr",
          "text": [
            "Evaluating with TTA level no_tta: 100%|██████████| 115/115 [00:33<00:00,  3.43it/s, ClsF1=0.9386, ClsAcc=0.5714]\n",
            "Evaluating with TTA level mirroring: 100%|██████████| 115/115 [00:41<00:00,  2.75it/s, ClsF1=0.9386, ClsAcc=0.5714]\n",
            "Evaluating with TTA level translate: 100%|██████████| 115/115 [01:47<00:00,  1.07it/s, ClsF1=0.9396, ClsAcc=0.6190]\n"
          ]
        },
        {
          "output_type": "stream",
          "name": "stdout",
          "text": [
            "\n",
            "Epoch 1/10\n"
          ]
        },
        {
          "output_type": "stream",
          "name": "stderr",
          "text": [
            "Training: 100%|██████████| 115/115 [00:33<00:00,  3.43it/s, Loss=2.2323]\n",
            "Evaluating: 100%|██████████| 115/115 [00:28<00:00,  4.05it/s, Loss=0.4371, ClsF1=0.9723, ClsAcc=0.9524]\n"
          ]
        },
        {
          "output_type": "stream",
          "name": "stdout",
          "text": [
            "[Train]                                | Loss: 2.5856\n",
            "[Val]   ClsF1: 0.9433 | ClsAcc: 0.8493 | Loss: 0.7999\n",
            "\n",
            "Epoch 2/10\n"
          ]
        },
        {
          "output_type": "stream",
          "name": "stderr",
          "text": [
            "Training: 100%|██████████| 115/115 [00:33<00:00,  3.41it/s, Loss=1.1940]\n",
            "Evaluating: 100%|██████████| 115/115 [00:28<00:00,  4.07it/s, Loss=0.2768, ClsF1=1.0000, ClsAcc=1.0000]\n"
          ]
        },
        {
          "output_type": "stream",
          "name": "stdout",
          "text": [
            "[Train]                                | Loss: 1.9327\n",
            "[Val]   ClsF1: 0.9505 | ClsAcc: 0.8783 | Loss: 0.6186\n",
            "\n",
            "Epoch 3/10\n"
          ]
        },
        {
          "output_type": "stream",
          "name": "stderr",
          "text": [
            "Training: 100%|██████████| 115/115 [00:34<00:00,  3.38it/s, Loss=0.9823]\n",
            "Evaluating: 100%|██████████| 115/115 [00:28<00:00,  4.01it/s, Loss=0.3786, ClsF1=0.9723, ClsAcc=0.9524]\n"
          ]
        },
        {
          "output_type": "stream",
          "name": "stdout",
          "text": [
            "[Train]                                | Loss: 1.8803\n",
            "[Val]   ClsF1: 0.9517 | ClsAcc: 0.8884 | Loss: 0.5857\n",
            "\n",
            "Epoch 4/10\n"
          ]
        },
        {
          "output_type": "stream",
          "name": "stderr",
          "text": [
            "Training: 100%|██████████| 115/115 [00:33<00:00,  3.43it/s, Loss=2.4377]\n",
            "Evaluating: 100%|██████████| 115/115 [00:28<00:00,  3.98it/s, Loss=0.2296, ClsF1=1.0000, ClsAcc=1.0000]\n"
          ]
        },
        {
          "output_type": "stream",
          "name": "stdout",
          "text": [
            "[Train]                                | Loss: 1.8174\n",
            "[Val]   ClsF1: 0.9515 | ClsAcc: 0.8859 | Loss: 0.5597\n",
            "\n",
            "Epoch 5/10\n"
          ]
        },
        {
          "output_type": "stream",
          "name": "stderr",
          "text": [
            "Training: 100%|██████████| 115/115 [00:33<00:00,  3.48it/s, Loss=2.2331]\n",
            "Evaluating: 100%|██████████| 115/115 [00:29<00:00,  3.93it/s, Loss=0.3464, ClsF1=0.9723, ClsAcc=0.9524]\n"
          ]
        },
        {
          "output_type": "stream",
          "name": "stdout",
          "text": [
            "[Train]                                | Loss: 1.8254\n",
            "[Val]   ClsF1: 0.9499 | ClsAcc: 0.8898 | Loss: 0.5659\n",
            "\n",
            "Epoch 6/10\n"
          ]
        },
        {
          "output_type": "stream",
          "name": "stderr",
          "text": [
            "Training: 100%|██████████| 115/115 [00:33<00:00,  3.47it/s, Loss=1.7769]\n",
            "Evaluating: 100%|██████████| 115/115 [00:29<00:00,  3.96it/s, Loss=0.6904, ClsF1=0.9446, ClsAcc=0.9048]\n"
          ]
        },
        {
          "output_type": "stream",
          "name": "stdout",
          "text": [
            "[Train]                                | Loss: 1.8148\n",
            "[Val]   ClsF1: 0.9496 | ClsAcc: 0.8780 | Loss: 0.5933\n",
            "\n",
            "Epoch 7/10\n"
          ]
        },
        {
          "output_type": "stream",
          "name": "stderr",
          "text": [
            "Training: 100%|██████████| 115/115 [00:33<00:00,  3.43it/s, Loss=1.6592]\n",
            "Evaluating: 100%|██████████| 115/115 [00:29<00:00,  3.94it/s, Loss=0.5113, ClsF1=0.9446, ClsAcc=0.9048]\n"
          ]
        },
        {
          "output_type": "stream",
          "name": "stdout",
          "text": [
            "[Train]                                | Loss: 1.7400\n",
            "[Val]   ClsF1: 0.9554 | ClsAcc: 0.8954 | Loss: 0.5462\n",
            "\n",
            "Epoch 8/10\n"
          ]
        },
        {
          "output_type": "stream",
          "name": "stderr",
          "text": [
            "Training: 100%|██████████| 115/115 [00:34<00:00,  3.36it/s, Loss=1.0296]\n",
            "Evaluating: 100%|██████████| 115/115 [00:28<00:00,  4.03it/s, Loss=0.5185, ClsF1=0.9723, ClsAcc=0.9524]\n"
          ]
        },
        {
          "output_type": "stream",
          "name": "stdout",
          "text": [
            "[Train]                                | Loss: 1.7086\n",
            "[Val]   ClsF1: 0.9535 | ClsAcc: 0.8944 | Loss: 0.5270\n",
            "\n",
            "Epoch 9/10\n"
          ]
        },
        {
          "output_type": "stream",
          "name": "stderr",
          "text": [
            "Training: 100%|██████████| 115/115 [00:34<00:00,  3.37it/s, Loss=0.6773]\n",
            "Evaluating: 100%|██████████| 115/115 [00:28<00:00,  4.07it/s, Loss=0.3844, ClsF1=0.9723, ClsAcc=0.9524]\n"
          ]
        },
        {
          "output_type": "stream",
          "name": "stdout",
          "text": [
            "[Train]                                | Loss: 1.7473\n",
            "[Val]   ClsF1: 0.9544 | ClsAcc: 0.8912 | Loss: 0.5336\n",
            "\n",
            "Epoch 10/10\n"
          ]
        },
        {
          "output_type": "stream",
          "name": "stderr",
          "text": [
            "Training: 100%|██████████| 115/115 [00:33<00:00,  3.43it/s, Loss=1.4202]\n",
            "Evaluating: 100%|██████████| 115/115 [00:28<00:00,  4.06it/s, Loss=0.6243, ClsF1=0.9446, ClsAcc=0.9048]\n"
          ]
        },
        {
          "output_type": "stream",
          "name": "stdout",
          "text": [
            "[Train]                                | Loss: 1.6956\n",
            "[Val]   ClsF1: 0.9545 | ClsAcc: 0.8956 | Loss: 0.5339\n"
          ]
        },
        {
          "output_type": "stream",
          "name": "stderr",
          "text": [
            "Evaluating with TTA level no_tta: 100%|██████████| 115/115 [00:28<00:00,  3.97it/s, ClsF1=0.9446, ClsAcc=0.9048]\n",
            "Evaluating with TTA level mirroring: 100%|██████████| 115/115 [00:32<00:00,  3.54it/s, ClsF1=0.9446, ClsAcc=0.9048]\n",
            "Evaluating with TTA level translate: 100%|██████████| 115/115 [00:53<00:00,  2.14it/s, ClsF1=0.9446, ClsAcc=0.9048]\n"
          ]
        },
        {
          "output_type": "stream",
          "name": "stdout",
          "text": [
            "\n",
            "Epoch 1/10\n"
          ]
        },
        {
          "output_type": "stream",
          "name": "stderr",
          "text": [
            "Training: 100%|██████████| 115/115 [00:41<00:00,  2.76it/s, Loss=1.1288]\n",
            "Evaluating: 100%|██████████| 115/115 [00:36<00:00,  3.14it/s, Loss=0.1353, ClsF1=1.0000, ClsAcc=1.0000]\n"
          ]
        },
        {
          "output_type": "stream",
          "name": "stdout",
          "text": [
            "[Train]                                | Loss: 1.9812\n",
            "[Val]   ClsF1: 0.9547 | ClsAcc: 0.8793 | Loss: 0.5280\n",
            "\n",
            "Epoch 2/10\n"
          ]
        },
        {
          "output_type": "stream",
          "name": "stderr",
          "text": [
            "Training: 100%|██████████| 115/115 [00:42<00:00,  2.73it/s, Loss=1.6117]\n",
            "Evaluating: 100%|██████████| 115/115 [00:36<00:00,  3.17it/s, Loss=0.1215, ClsF1=1.0000, ClsAcc=1.0000]\n"
          ]
        },
        {
          "output_type": "stream",
          "name": "stdout",
          "text": [
            "[Train]                                | Loss: 1.5706\n",
            "[Val]   ClsF1: 0.9588 | ClsAcc: 0.8905 | Loss: 0.4753\n",
            "\n",
            "Epoch 3/10\n"
          ]
        },
        {
          "output_type": "stream",
          "name": "stderr",
          "text": [
            "Training: 100%|██████████| 115/115 [00:41<00:00,  2.74it/s, Loss=1.3561]\n",
            "Evaluating: 100%|██████████| 115/115 [00:36<00:00,  3.16it/s, Loss=0.2586, ClsF1=1.0000, ClsAcc=1.0000]\n"
          ]
        },
        {
          "output_type": "stream",
          "name": "stdout",
          "text": [
            "[Train]                                | Loss: 1.5517\n",
            "[Val]   ClsF1: 0.9613 | ClsAcc: 0.8951 | Loss: 0.4774\n",
            "\n",
            "Epoch 4/10\n"
          ]
        },
        {
          "output_type": "stream",
          "name": "stderr",
          "text": [
            "Training: 100%|██████████| 115/115 [00:41<00:00,  2.76it/s, Loss=1.8359]\n",
            "Evaluating: 100%|██████████| 115/115 [00:36<00:00,  3.16it/s, Loss=0.1602, ClsF1=1.0000, ClsAcc=1.0000]\n"
          ]
        },
        {
          "output_type": "stream",
          "name": "stdout",
          "text": [
            "[Train]                                | Loss: 1.5725\n",
            "[Val]   ClsF1: 0.9637 | ClsAcc: 0.9062 | Loss: 0.4283\n",
            "\n",
            "Epoch 5/10\n"
          ]
        },
        {
          "output_type": "stream",
          "name": "stderr",
          "text": [
            "Training: 100%|██████████| 115/115 [00:41<00:00,  2.75it/s, Loss=1.5839]\n",
            "Evaluating: 100%|██████████| 115/115 [00:36<00:00,  3.13it/s, Loss=0.1447, ClsF1=1.0000, ClsAcc=1.0000]\n"
          ]
        },
        {
          "output_type": "stream",
          "name": "stdout",
          "text": [
            "[Train]                                | Loss: 1.5108\n",
            "[Val]   ClsF1: 0.9629 | ClsAcc: 0.9068 | Loss: 0.4371\n",
            "\n",
            "Epoch 6/10\n"
          ]
        },
        {
          "output_type": "stream",
          "name": "stderr",
          "text": [
            "Training: 100%|██████████| 115/115 [00:41<00:00,  2.75it/s, Loss=1.5248]\n",
            "Evaluating: 100%|██████████| 115/115 [00:36<00:00,  3.15it/s, Loss=0.1439, ClsF1=1.0000, ClsAcc=1.0000]\n"
          ]
        },
        {
          "output_type": "stream",
          "name": "stdout",
          "text": [
            "[Train]                                | Loss: 1.5710\n",
            "[Val]   ClsF1: 0.9661 | ClsAcc: 0.9136 | Loss: 0.4140\n",
            "\n",
            "Epoch 7/10\n"
          ]
        },
        {
          "output_type": "stream",
          "name": "stderr",
          "text": [
            "Training: 100%|██████████| 115/115 [00:42<00:00,  2.70it/s, Loss=1.7492]\n",
            "Evaluating: 100%|██████████| 115/115 [00:36<00:00,  3.17it/s, Loss=0.1752, ClsF1=1.0000, ClsAcc=1.0000]\n"
          ]
        },
        {
          "output_type": "stream",
          "name": "stdout",
          "text": [
            "[Train]                                | Loss: 1.5300\n",
            "[Val]   ClsF1: 0.9653 | ClsAcc: 0.9152 | Loss: 0.4080\n",
            "\n",
            "Epoch 8/10\n"
          ]
        },
        {
          "output_type": "stream",
          "name": "stderr",
          "text": [
            "Training: 100%|██████████| 115/115 [00:41<00:00,  2.76it/s, Loss=0.9118]\n",
            "Evaluating: 100%|██████████| 115/115 [00:36<00:00,  3.17it/s, Loss=0.1892, ClsF1=1.0000, ClsAcc=1.0000]\n"
          ]
        },
        {
          "output_type": "stream",
          "name": "stdout",
          "text": [
            "[Train]                                | Loss: 1.3812\n",
            "[Val]   ClsF1: 0.9647 | ClsAcc: 0.9179 | Loss: 0.3991\n",
            "\n",
            "Epoch 9/10\n"
          ]
        },
        {
          "output_type": "stream",
          "name": "stderr",
          "text": [
            "Training: 100%|██████████| 115/115 [00:42<00:00,  2.73it/s, Loss=2.0338]\n",
            "Evaluating: 100%|██████████| 115/115 [00:36<00:00,  3.17it/s, Loss=0.2519, ClsF1=1.0000, ClsAcc=1.0000]\n"
          ]
        },
        {
          "output_type": "stream",
          "name": "stdout",
          "text": [
            "[Train]                                | Loss: 1.5189\n",
            "[Val]   ClsF1: 0.9615 | ClsAcc: 0.9071 | Loss: 0.4214\n",
            "\n",
            "Epoch 10/10\n"
          ]
        },
        {
          "output_type": "stream",
          "name": "stderr",
          "text": [
            "Training: 100%|██████████| 115/115 [00:41<00:00,  2.76it/s, Loss=1.1498]\n",
            "Evaluating: 100%|██████████| 115/115 [00:36<00:00,  3.17it/s, Loss=0.3571, ClsF1=1.0000, ClsAcc=1.0000]\n"
          ]
        },
        {
          "output_type": "stream",
          "name": "stdout",
          "text": [
            "[Train]                                | Loss: 1.4270\n",
            "[Val]   ClsF1: 0.9633 | ClsAcc: 0.9174 | Loss: 0.4309\n"
          ]
        },
        {
          "output_type": "stream",
          "name": "stderr",
          "text": [
            "Evaluating with TTA level no_tta: 100%|██████████| 115/115 [00:36<00:00,  3.17it/s, ClsF1=1.0000, ClsAcc=1.0000]\n",
            "Evaluating with TTA level mirroring: 100%|██████████| 115/115 [00:49<00:00,  2.33it/s, ClsF1=1.0000, ClsAcc=1.0000]\n",
            "Evaluating with TTA level translate: 100%|██████████| 115/115 [02:22<00:00,  1.24s/it, ClsF1=1.0000, ClsAcc=1.0000]\n"
          ]
        },
        {
          "output_type": "stream",
          "name": "stdout",
          "text": [
            "\n",
            "Epoch 1/10\n"
          ]
        },
        {
          "output_type": "stream",
          "name": "stderr",
          "text": [
            "Training: 100%|██████████| 115/115 [00:49<00:00,  2.34it/s, Loss=2.1828]\n",
            "Evaluating: 100%|██████████| 115/115 [00:43<00:00,  2.64it/s, Loss=0.2064, ClsF1=1.0000, ClsAcc=1.0000]\n"
          ]
        },
        {
          "output_type": "stream",
          "name": "stdout",
          "text": [
            "[Train]                                | Loss: 1.8607\n",
            "[Val]   ClsF1: 0.9676 | ClsAcc: 0.8951 | Loss: 0.4450\n",
            "\n",
            "Epoch 2/10\n"
          ]
        },
        {
          "output_type": "stream",
          "name": "stderr",
          "text": [
            "Training: 100%|██████████| 115/115 [00:49<00:00,  2.33it/s, Loss=1.5841]\n",
            "Evaluating: 100%|██████████| 115/115 [00:43<00:00,  2.66it/s, Loss=0.1685, ClsF1=1.0000, ClsAcc=1.0000]\n"
          ]
        },
        {
          "output_type": "stream",
          "name": "stdout",
          "text": [
            "[Train]                                | Loss: 1.5098\n",
            "[Val]   ClsF1: 0.9666 | ClsAcc: 0.9152 | Loss: 0.3912\n",
            "\n",
            "Epoch 3/10\n"
          ]
        },
        {
          "output_type": "stream",
          "name": "stderr",
          "text": [
            "Training: 100%|██████████| 115/115 [00:49<00:00,  2.34it/s, Loss=1.6617]\n",
            "Evaluating: 100%|██████████| 115/115 [00:43<00:00,  2.63it/s, Loss=0.2287, ClsF1=1.0000, ClsAcc=1.0000]\n"
          ]
        },
        {
          "output_type": "stream",
          "name": "stdout",
          "text": [
            "[Train]                                | Loss: 1.2891\n",
            "[Val]   ClsF1: 0.9692 | ClsAcc: 0.9247 | Loss: 0.3679\n",
            "\n",
            "Epoch 4/10\n"
          ]
        },
        {
          "output_type": "stream",
          "name": "stderr",
          "text": [
            "Training: 100%|██████████| 115/115 [00:49<00:00,  2.34it/s, Loss=1.2471]\n",
            "Evaluating: 100%|██████████| 115/115 [00:43<00:00,  2.64it/s, Loss=0.2125, ClsF1=1.0000, ClsAcc=1.0000]\n"
          ]
        },
        {
          "output_type": "stream",
          "name": "stdout",
          "text": [
            "[Train]                                | Loss: 1.4261\n",
            "[Val]   ClsF1: 0.9657 | ClsAcc: 0.9136 | Loss: 0.3802\n",
            "\n",
            "Epoch 5/10\n"
          ]
        },
        {
          "output_type": "stream",
          "name": "stderr",
          "text": [
            "Training: 100%|██████████| 115/115 [00:48<00:00,  2.37it/s, Loss=1.3964]\n",
            "Evaluating: 100%|██████████| 115/115 [00:42<00:00,  2.68it/s, Loss=0.1970, ClsF1=1.0000, ClsAcc=1.0000]\n"
          ]
        },
        {
          "output_type": "stream",
          "name": "stdout",
          "text": [
            "[Train]                                | Loss: 1.3671\n",
            "[Val]   ClsF1: 0.9682 | ClsAcc: 0.9201 | Loss: 0.3870\n",
            "\n",
            "Epoch 6/10\n"
          ]
        },
        {
          "output_type": "stream",
          "name": "stderr",
          "text": [
            "Training: 100%|██████████| 115/115 [00:48<00:00,  2.36it/s, Loss=1.2449]\n",
            "Evaluating: 100%|██████████| 115/115 [00:43<00:00,  2.64it/s, Loss=0.2087, ClsF1=1.0000, ClsAcc=1.0000]\n"
          ]
        },
        {
          "output_type": "stream",
          "name": "stdout",
          "text": [
            "[Train]                                | Loss: 1.3670\n",
            "[Val]   ClsF1: 0.9651 | ClsAcc: 0.9106 | Loss: 0.4036\n",
            "\n",
            "Epoch 7/10\n"
          ]
        },
        {
          "output_type": "stream",
          "name": "stderr",
          "text": [
            "Training: 100%|██████████| 115/115 [00:49<00:00,  2.34it/s, Loss=1.4584]\n",
            "Evaluating: 100%|██████████| 115/115 [00:42<00:00,  2.68it/s, Loss=0.1424, ClsF1=1.0000, ClsAcc=1.0000]\n"
          ]
        },
        {
          "output_type": "stream",
          "name": "stdout",
          "text": [
            "[Train]                                | Loss: 1.3236\n",
            "[Val]   ClsF1: 0.9660 | ClsAcc: 0.9152 | Loss: 0.3686\n",
            "\n",
            "Epoch 8/10\n"
          ]
        },
        {
          "output_type": "stream",
          "name": "stderr",
          "text": [
            "Training: 100%|██████████| 115/115 [00:48<00:00,  2.37it/s, Loss=1.2280]\n",
            "Evaluating: 100%|██████████| 115/115 [00:43<00:00,  2.64it/s, Loss=0.2087, ClsF1=1.0000, ClsAcc=1.0000]\n"
          ]
        },
        {
          "output_type": "stream",
          "name": "stdout",
          "text": [
            "[Train]                                | Loss: 1.3145\n",
            "[Val]   ClsF1: 0.9662 | ClsAcc: 0.9207 | Loss: 0.3927\n",
            "\n",
            "Epoch 9/10\n"
          ]
        },
        {
          "output_type": "stream",
          "name": "stderr",
          "text": [
            "Training: 100%|██████████| 115/115 [00:49<00:00,  2.34it/s, Loss=1.5722]\n",
            "Evaluating: 100%|██████████| 115/115 [00:43<00:00,  2.65it/s, Loss=0.3398, ClsF1=1.0000, ClsAcc=1.0000]\n"
          ]
        },
        {
          "output_type": "stream",
          "name": "stdout",
          "text": [
            "[Train]                                | Loss: 1.3400\n",
            "[Val]   ClsF1: 0.9679 | ClsAcc: 0.9245 | Loss: 0.3897\n",
            "\n",
            "Epoch 10/10\n"
          ]
        },
        {
          "output_type": "stream",
          "name": "stderr",
          "text": [
            "Training: 100%|██████████| 115/115 [00:48<00:00,  2.35it/s, Loss=0.5259]\n",
            "Evaluating: 100%|██████████| 115/115 [00:43<00:00,  2.67it/s, Loss=0.4137, ClsF1=1.0000, ClsAcc=1.0000]\n"
          ]
        },
        {
          "output_type": "stream",
          "name": "stdout",
          "text": [
            "[Train]                                | Loss: 1.3032\n",
            "[Val]   ClsF1: 0.9651 | ClsAcc: 0.9261 | Loss: 0.3873\n"
          ]
        },
        {
          "output_type": "stream",
          "name": "stderr",
          "text": [
            "Evaluating with TTA level no_tta: 100%|██████████| 115/115 [00:43<00:00,  2.66it/s, ClsF1=1.0000, ClsAcc=1.0000]\n",
            "Evaluating with TTA level mirroring: 100%|██████████| 115/115 [01:02<00:00,  1.83it/s, ClsF1=1.0000, ClsAcc=1.0000]\n",
            "Evaluating with TTA level translate: 100%|██████████| 115/115 [03:24<00:00,  1.78s/it, ClsF1=1.0000, ClsAcc=1.0000]\n"
          ]
        }
      ],
      "source": [
        "results = []\n",
        "\n",
        "for model_name in models:\n",
        "    model = ClassificationModel(model_name).to(device)\n",
        "    optimizer = torch.optim.AdamW(model.parameters(), lr=1e-3)\n",
        "    model.freeze_backbone()\n",
        "    num_epochs = 10\n",
        "    print(model_name)\n",
        "    for epoch in range(num_epochs):\n",
        "        print(f\"\\nEpoch {epoch + 1}/{num_epochs}\")\n",
        "        tr_loss = train()\n",
        "        vl_cls_f1, vl_cls_acc, vl_loss = val()\n",
        "        print(f\"[Train]                                | Loss: {tr_loss:.4f}\")\n",
        "        print(f\"[Val]   ClsF1: {vl_cls_f1:.4f} | ClsAcc: {vl_cls_acc:.4f} | Loss: {vl_loss:.4f}\")\n",
        "\n",
        "    for level in [\"no_tta\", \"mirroring\", \"translate\"]:\n",
        "        val_f1_tta, val_acc_tta = val_tta(level)\n",
        "        results.append((model_name, level, val_f1_tta, val_acc_tta))\n"
      ],
      "metadata": {
        "ExecuteTime": {
          "end_time": "2025-06-10T18:01:34.090554200Z",
          "start_time": "2025-06-10T17:55:45.839890900Z"
        },
        "colab": {
          "base_uri": "https://localhost:8080/"
        },
        "id": "j_g715n4A47y",
        "outputId": "d3a2ef5e-4e64-4a9f-cbaf-75cc83423243"
      }
    },
    {
      "cell_type": "code",
      "execution_count": 20,
      "outputs": [
        {
          "output_type": "stream",
          "name": "stdout",
          "text": [
            "resnet18.a1_in1k                    | no_tta     | ClsF1: 0.9243 | ClsAcc: 0.8361\n",
            "resnet18.a1_in1k                    | mirroring  | ClsF1: 0.9278 | ClsAcc: 0.8432\n",
            "resnet18.a1_in1k                    | translate  | ClsF1: 0.9261 | ClsAcc: 0.8421\n",
            "resnet50.a1h_in1k                   | no_tta     | ClsF1: 0.9573 | ClsAcc: 0.9057\n",
            "resnet50.a1h_in1k                   | mirroring  | ClsF1: 0.9598 | ClsAcc: 0.9092\n",
            "resnet50.a1h_in1k                   | translate  | ClsF1: 0.9586 | ClsAcc: 0.9098\n",
            "resnest14d.gluon_in1k               | no_tta     | ClsF1: 0.9164 | ClsAcc: 0.8367\n",
            "resnest14d.gluon_in1k               | mirroring  | ClsF1: 0.9183 | ClsAcc: 0.8418\n",
            "resnest14d.gluon_in1k               | translate  | ClsF1: 0.9260 | ClsAcc: 0.8484\n",
            "resnest26d.gluon_in1k               | no_tta     | ClsF1: 0.9311 | ClsAcc: 0.8576\n",
            "resnest26d.gluon_in1k               | mirroring  | ClsF1: 0.9333 | ClsAcc: 0.8609\n",
            "resnest26d.gluon_in1k               | translate  | ClsF1: 0.9386 | ClsAcc: 0.8690\n",
            "vit_base_patch16_clip_224.openai    | no_tta     | ClsF1: 0.9354 | ClsAcc: 0.8436\n",
            "vit_base_patch16_clip_224.openai    | mirroring  | ClsF1: 0.9344 | ClsAcc: 0.8438\n",
            "vit_base_patch16_clip_224.openai    | translate  | ClsF1: 0.9427 | ClsAcc: 0.8641\n",
            "vit_small_patch16_224.augreg_in21k  | no_tta     | ClsF1: 0.9545 | ClsAcc: 0.8956\n",
            "vit_small_patch16_224.augreg_in21k  | mirroring  | ClsF1: 0.9533 | ClsAcc: 0.8951\n",
            "vit_small_patch16_224.augreg_in21k  | translate  | ClsF1: 0.9601 | ClsAcc: 0.9038\n",
            "maxvit_tiny_tf_224.in1k             | no_tta     | ClsF1: 0.9633 | ClsAcc: 0.9174\n",
            "maxvit_tiny_tf_224.in1k             | mirroring  | ClsF1: 0.9640 | ClsAcc: 0.9179\n",
            "maxvit_tiny_tf_224.in1k             | translate  | ClsF1: 0.9652 | ClsAcc: 0.9217\n",
            "maxvit_small_tf_224.in1k            | no_tta     | ClsF1: 0.9651 | ClsAcc: 0.9261\n",
            "maxvit_small_tf_224.in1k            | mirroring  | ClsF1: 0.9649 | ClsAcc: 0.9247\n",
            "maxvit_small_tf_224.in1k            | translate  | ClsF1: 0.9654 | ClsAcc: 0.9272\n"
          ]
        }
      ],
      "source": [
        "for model_name, level, val_f1_tta, val_acc_tta in results:\n",
        "    print(f\"{model_name.split('/')[-1]: <35} | {level: <10} | ClsF1: {val_f1_tta:.4f} | ClsAcc: {val_acc_tta:.4f}\")"
      ],
      "metadata": {
        "colab": {
          "base_uri": "https://localhost:8080/"
        },
        "id": "FSQzNfhXA47y",
        "outputId": "a73c3f5a-d129-4fd8-d0f1-46f3525b3a5b"
      }
    },
    {
      "cell_type": "code",
      "source": [],
      "metadata": {
        "id": "YNAPZ1rbeYpd"
      },
      "execution_count": null,
      "outputs": []
    }
  ],
  "metadata": {
    "kernelspec": {
      "display_name": "Python 3",
      "name": "python3"
    },
    "language_info": {
      "codemirror_mode": {
        "name": "ipython",
        "version": 3
      },
      "file_extension": ".py",
      "mimetype": "text/x-python",
      "name": "python",
      "nbconvert_exporter": "python",
      "pygments_lexer": "ipython3",
      "version": "3.13.3"
    },
    "colab": {
      "provenance": [],
      "gpuType": "T4",
      "include_colab_link": true
    },
    "accelerator": "GPU"
  },
  "nbformat": 4,
  "nbformat_minor": 0
}